{
  "nbformat": 4,
  "nbformat_minor": 0,
  "metadata": {
    "colab": {
      "provenance": []
    },
    "kernelspec": {
      "name": "python3",
      "display_name": "Python 3"
    },
    "language_info": {
      "name": "python"
    }
  },
  "cells": [
    {
      "cell_type": "markdown",
      "source": [
        "Instalare biblioteca **SNNTORCH**"
      ],
      "metadata": {
        "id": "cG0PGFw-9mH0"
      }
    },
    {
      "cell_type": "code",
      "execution_count": 3,
      "metadata": {
        "colab": {
          "base_uri": "https://localhost:8080/"
        },
        "id": "efiwaTq7Oi-Y",
        "outputId": "65e3ba17-bc8d-4316-a9e8-5b27724d12b1"
      },
      "outputs": [
        {
          "output_type": "stream",
          "name": "stdout",
          "text": [
            "Collecting snntorch\n",
            "  Downloading snntorch-0.9.4-py2.py3-none-any.whl.metadata (15 kB)\n",
            "Downloading snntorch-0.9.4-py2.py3-none-any.whl (125 kB)\n",
            "\u001b[?25l   \u001b[90m━━━━━━━━━━━━━━━━━━━━━━━━━━━━━━━━━━━━━━━━\u001b[0m \u001b[32m0.0/125.6 kB\u001b[0m \u001b[31m?\u001b[0m eta \u001b[36m-:--:--\u001b[0m\r\u001b[2K   \u001b[90m━━━━━━━━━━━━━━━━━━━━━━━━━━━━━━━━━━━━━━━━\u001b[0m \u001b[32m125.6/125.6 kB\u001b[0m \u001b[31m6.6 MB/s\u001b[0m eta \u001b[36m0:00:00\u001b[0m\n",
            "\u001b[?25hInstalling collected packages: snntorch\n",
            "Successfully installed snntorch-0.9.4\n"
          ]
        }
      ],
      "source": [
        "!pip install snntorch"
      ]
    },
    {
      "cell_type": "code",
      "source": [
        "import snntorch as snn\n",
        "from snntorch import spikeplot as splt\n",
        "\n",
        "import torch\n",
        "import torchvision\n",
        "\n",
        "import torchvision.transforms as transforms\n",
        "import torch.nn as nn\n",
        "\n",
        "import matplotlib.pyplot as plt"
      ],
      "metadata": {
        "id": "E3R9JnagQfQH"
      },
      "execution_count": 4,
      "outputs": []
    },
    {
      "cell_type": "markdown",
      "source": [
        "Dataset MNIST"
      ],
      "metadata": {
        "id": "-KDRTPfmdtZi"
      }
    },
    {
      "cell_type": "code",
      "source": [
        "from torchvision import datasets, transforms\n",
        "from torch.utils.data import DataLoader\n",
        "\n",
        "transform = transforms.Compose([transforms.ToTensor()])\n",
        "\n",
        "# descarcarea setului de date MNIST pentru antrenare cat si testare\n",
        "train_data = datasets.MNIST(root='./data', train=True, download=True, transform=transform)\n",
        "test_data = datasets.MNIST(root='./data', train=False, download=True, transform=transform)\n",
        "\n",
        "\n",
        "train_loader = DataLoader(train_data, batch_size=128, shuffle=True)\n",
        "test_loader = DataLoader(test_data, batch_size=128, shuffle=False)\n",
        "#imagini impartite in batch-uri pentru o procesare eficienta pe GPU/CPU"
      ],
      "metadata": {
        "id": "pLXZPhGMSk9T"
      },
      "execution_count": 28,
      "outputs": []
    },
    {
      "cell_type": "markdown",
      "source": [
        "\n",
        "Definirea modelul SNN(Spiking Neural Network)"
      ],
      "metadata": {
        "id": "2AKFE1wwrR2z"
      }
    },
    {
      "cell_type": "code",
      "source": [
        "class SNN(nn.Module):\n",
        "    def __init__(self):\n",
        "        super(SNN, self).__init__()\n",
        "\n",
        "        self.flatten = nn.Flatten()\n",
        "        #flattern- transformarea imaginei 28x28 in vector de 784\n",
        "\n",
        "        self.fc1 = nn.Linear(28*28, 512)\n",
        "        self.lif1 = snn.Leaky(beta=0.5)\n",
        "\n",
        "        self.fc2 = nn.Linear(512, 10)\n",
        "        self.lif2 = snn.Leaky(beta=0.5)\n",
        "\n",
        "        #Leaky Integrate-and-Fire (LIF)\n",
        "        #beta controleaza leak-ul\n",
        "\n",
        "\n",
        "    def forward(self, x, time_steps=25):\n",
        "        mem1 = self.lif1.init_leaky()\n",
        "        mem2 = self.lif2.init_leaky()\n",
        "        spk_out_rec = []\n",
        "\n",
        "        x = self.flatten(x)\n",
        "\n",
        "        for step in range(time_steps):\n",
        "            #x = self.flatten(x)\n",
        "            curent1 = self.fc1(x)\n",
        "            spk1, mem1 = self.lif1(curent1, mem1)\n",
        "\n",
        "            curent2 = self.fc2(spk1)\n",
        "            spk2, mem2 = self.lif2(curent2, mem2)\n",
        "\n",
        "            spk_out_rec.append(spk2)\n",
        "\n",
        "        return torch.stack(spk_out_rec, dim=0)\n"
      ],
      "metadata": {
        "id": "CVhaacY1f8Yn"
      },
      "execution_count": 30,
      "outputs": []
    },
    {
      "cell_type": "markdown",
      "source": [
        "Initializare model SNN"
      ],
      "metadata": {
        "id": "D8Di1ZRAy4CQ"
      }
    },
    {
      "cell_type": "code",
      "source": [
        "device = torch.device(\"cuda\" if torch.cuda.is_available() else \"cpu\")\n",
        "model = SNN().to(device)"
      ],
      "metadata": {
        "id": "tWeRpZh-y9wi"
      },
      "execution_count": 7,
      "outputs": []
    },
    {
      "cell_type": "code",
      "source": [
        "images, labels = next(iter(test_loader))\n",
        "images = images.to(device)\n",
        "spk_output = model(images, time_steps=25)\n",
        "print(\"Output:\", spk_output.shape)#[timesteps, batch_size, output_classes]"
      ],
      "metadata": {
        "colab": {
          "base_uri": "https://localhost:8080/"
        },
        "id": "8I8nwoXLr1or",
        "outputId": "ed5e5cf6-860d-41ad-d6d4-d01a3a60db14"
      },
      "execution_count": 8,
      "outputs": [
        {
          "output_type": "stream",
          "name": "stdout",
          "text": [
            "Output: torch.Size([25, 128, 10])\n"
          ]
        }
      ]
    },
    {
      "cell_type": "markdown",
      "source": [
        "Functie Antrenare model"
      ],
      "metadata": {
        "id": "rweebav1ya4M"
      }
    },
    {
      "cell_type": "code",
      "source": [
        "def train_snn(model, train_loader, optimizer, device, num_epochs=5, time_steps=25):\n",
        "    loss_fn = nn.CrossEntropyLoss()\n",
        "    model.to(device)\n",
        "    model.train()\n",
        "\n",
        "    for epoch in range(num_epochs):\n",
        "        total_loss = 0.0\n",
        "        correct = 0\n",
        "        total = 0\n",
        "\n",
        "        #parcurgerea batch-urilor din setul de antrenare\n",
        "        for images, labels in train_loader:\n",
        "            images, labels = images.to(device), labels.to(device)\n",
        "            optimizer.zero_grad()\n",
        "\n",
        "            spk_out = model(images, time_steps=time_steps)\n",
        "            out = spk_out.mean(dim=0)#media spike-urilor\n",
        "\n",
        "            #calculul pierdere -CrossEntropyLoss\n",
        "            loss = loss_fn(out, labels)\n",
        "            #backpropagation\n",
        "            loss.backward()\n",
        "            optimizer.step()\n",
        "\n",
        "            #statistici pentru evaluare: pierderea acumulata, nr predictii corecte, total imagini\n",
        "            total_loss += loss.item()\n",
        "            _, predicted = out.max(1)\n",
        "            total += labels.size(0)\n",
        "            correct += (predicted == labels).sum().item()\n",
        "\n",
        "        #afisare\n",
        "        acc = 100. * correct / total\n",
        "        print(f\"Epoch [{epoch+1}/{num_epochs}] - Loss: {total_loss:.4f} - Accuracy: {acc:.2f}%\")\n"
      ],
      "metadata": {
        "id": "mcaYYFTtydN3"
      },
      "execution_count": 9,
      "outputs": []
    },
    {
      "cell_type": "markdown",
      "source": [
        "Initializare functia de antrenare"
      ],
      "metadata": {
        "id": "pS7rgqWBM0vb"
      }
    },
    {
      "cell_type": "code",
      "source": [
        "model = SNN()\n",
        "optimizer = torch.optim.Adam(model.parameters(), lr=1e-3)\n",
        "device = torch.device(\"cuda\" if torch.cuda.is_available() else \"cpu\")\n",
        "train_snn(model, train_loader, optimizer, device, num_epochs=5, time_steps=25)\n"
      ],
      "metadata": {
        "colab": {
          "base_uri": "https://localhost:8080/"
        },
        "id": "3ewBocKx6dLD",
        "outputId": "6de270af-a82d-4d42-97cd-1d87596c15c6"
      },
      "execution_count": 10,
      "outputs": [
        {
          "output_type": "stream",
          "name": "stdout",
          "text": [
            "Epoca [1/5] - Loss: 737.0401 - Acuratețe: 88.14%\n",
            "Epoca [2/5] - Loss: 706.6613 - Acuratețe: 94.22%\n",
            "Epoca [3/5] - Loss: 701.1112 - Acuratețe: 95.49%\n",
            "Epoca [4/5] - Loss: 697.7565 - Acuratețe: 96.43%\n",
            "Epoca [5/5] - Loss: 695.7095 - Acuratețe: 97.03%\n"
          ]
        }
      ]
    },
    {
      "cell_type": "markdown",
      "source": [
        "Functie Testare\n",
        "\n"
      ],
      "metadata": {
        "id": "PQ022hSizJrL"
      }
    },
    {
      "cell_type": "code",
      "source": [
        "def evaluate_snn(model, test_loader, device, time_steps=25):\n",
        "    model.eval()\n",
        "    correct = 0\n",
        "    total = 0\n",
        "\n",
        "    #fara gradient-memorie si calcule economisite\n",
        "    with torch.no_grad():\n",
        "        for images, labels in test_loader:\n",
        "            images, labels = images.to(device), labels.to(device)\n",
        "            #trecem imaginile prin reteaua spiking timp de \"time_steps\"\n",
        "            spk_out = model(images, time_steps=time_steps)\n",
        "            out = spk_out.mean(dim=0)\n",
        "\n",
        "            #predictie si scor\n",
        "            _, predicted = out.max(1)\n",
        "            #comparam predictiile cu etichetele reale si numaram cate sunt corecte\n",
        "            total += labels.size(0)\n",
        "            correct += (predicted == labels).sum().item()\n",
        "\n",
        "    #afisare\n",
        "    acc = 100. * correct / total\n",
        "    print(f\"Acuratetea pe setul de testare: {acc:.2f}%\")\n",
        "\n",
        "evaluate_snn(model, test_loader, device)\n"
      ],
      "metadata": {
        "colab": {
          "base_uri": "https://localhost:8080/"
        },
        "id": "p8frK6sgzNK6",
        "outputId": "0c603b8f-700c-452d-8290-26955290ea75"
      },
      "execution_count": 31,
      "outputs": [
        {
          "output_type": "stream",
          "name": "stdout",
          "text": [
            "Acuratetea pe setul de testare: 96.66%\n"
          ]
        }
      ]
    },
    {
      "cell_type": "markdown",
      "source": [
        "Matricea de confuzie normalizata"
      ],
      "metadata": {
        "id": "3-xs9jys2WGX"
      }
    },
    {
      "cell_type": "code",
      "source": [
        "import seaborn as sns\n",
        "from sklearn.metrics import confusion_matrix\n",
        "from google.colab import files\n",
        "\n",
        "def evaluate_snn_confusion_matrix(model, test_loader, device, time_steps=25, save_fig=True, download_fig=False):\n",
        "    model.eval()\n",
        "    all_preds = []\n",
        "    all_labels = []\n",
        "\n",
        "    with torch.no_grad():\n",
        "        for images, labels in test_loader:\n",
        "            images, labels = images.to(device), labels.to(device)\n",
        "            spk_out = model(images, time_steps=time_steps)\n",
        "            out = spk_out.mean(dim=0)\n",
        "\n",
        "            _, predicted = out.max(1)\n",
        "            all_preds.extend(predicted.cpu().numpy())\n",
        "            all_labels.extend(labels.cpu().numpy())\n",
        "\n",
        "    #matricea de confuzie\n",
        "    cm = confusion_matrix(all_labels, all_preds)\n",
        "    cm_normalized = cm.astype('float') / cm.sum(axis=1)[:, np.newaxis]\n",
        "\n",
        "    #afisare\n",
        "    plt.figure(figsize=(10, 8))\n",
        "    sns.heatmap(cm_normalized, annot=True, fmt=\".2f\", cmap=\"Blues\", xticklabels=range(10), yticklabels=range(10))\n",
        "    plt.xlabel(\"Etichete prezise\")\n",
        "    plt.ylabel(\"Etichete reale\")\n",
        "    plt.title(\"Matricea de confuzie normalizata - SNN pe MNIST\")\n",
        "\n",
        "    #salvare imagine\n",
        "    if save_fig:\n",
        "        plt.savefig(\"matrice_confuzie_snn.png\")\n",
        "    plt.show()\n",
        "\n",
        "    #descarcare imagine\n",
        "    if download_fig:\n",
        "        files.download(\"matrice_confuzie_snn.png\")\n",
        "\n",
        "    #acuratete\n",
        "    acc = 100. * np.sum(np.array(all_preds) == np.array(all_labels)) / len(all_labels)\n",
        "    print(f\"Accuracy: {acc:.2f}%\")\n"
      ],
      "metadata": {
        "id": "6gXZx2AM2sMT"
      },
      "execution_count": 40,
      "outputs": []
    },
    {
      "cell_type": "code",
      "source": [
        "evaluate_snn_confusion_matrix(model, test_loader, device, time_steps=25, save_fig=True, download_fig=True)\n"
      ],
      "metadata": {
        "colab": {
          "base_uri": "https://localhost:8080/",
          "height": 735
        },
        "id": "rpoDKgDZ3H49",
        "outputId": "03625fcf-a2c0-4f01-e092-dc5816413520"
      },
      "execution_count": 41,
      "outputs": [
        {
          "output_type": "display_data",
          "data": {
            "text/plain": [
              "<Figure size 1000x800 with 2 Axes>"
            ],
            "image/png": "[encoded data removed]"
          },
          "metadata": {}
        },
        {
          "output_type": "display_data",
          "data": {
            "text/plain": [
              "<IPython.core.display.Javascript object>"
            ],
            "application/javascript": [
              "\n",
              "    async function download(id, filename, size) {\n",
              "      if (!google.colab.kernel.accessAllowed) {\n",
              "        return;\n",
              "      }\n",
              "      const div = document.createElement('div');\n",
              "      const label = document.createElement('label');\n",
              "      label.textContent = `Downloading \"${filename}\": `;\n",
              "      div.appendChild(label);\n",
              "      const progress = document.createElement('progress');\n",
              "      progress.max = size;\n",
              "      div.appendChild(progress);\n",
              "      document.body.appendChild(div);\n",
              "\n",
              "      const buffers = [];\n",
              "      let downloaded = 0;\n",
              "\n",
              "      const channel = await google.colab.kernel.comms.open(id);\n",
              "      // Send a message to notify the kernel that we're ready.\n",
              "      channel.send({})\n",
              "\n",
              "      for await (const message of channel.messages) {\n",
              "        // Send a message to notify the kernel that we're ready.\n",
              "        channel.send({})\n",
              "        if (message.buffers) {\n",
              "          for (const buffer of message.buffers) {\n",
              "            buffers.push(buffer);\n",
              "            downloaded += buffer.byteLength;\n",
              "            progress.value = downloaded;\n",
              "          }\n",
              "        }\n",
              "      }\n",
              "      const blob = new Blob(buffers, {type: 'application/binary'});\n",
              "      const a = document.createElement('a');\n",
              "      a.href = window.URL.createObjectURL(blob);\n",
              "      a.download = filename;\n",
              "      div.appendChild(a);\n",
              "      a.click();\n",
              "      div.remove();\n",
              "    }\n",
              "  "
            ]
          },
          "metadata": {}
        },
        {
          "output_type": "display_data",
          "data": {
            "text/plain": [
              "<IPython.core.display.Javascript object>"
            ],
            "application/javascript": [
              "download(\"download_a32c8581-485a-4c4c-98c6-5211a492117f\", \"matrice_confuzie_snn.png\", 50067)"
            ]
          },
          "metadata": {}
        },
        {
          "output_type": "stream",
          "name": "stdout",
          "text": [
            "Accuracy: 96.66%\n"
          ]
        }
      ]
    }
  ]
}